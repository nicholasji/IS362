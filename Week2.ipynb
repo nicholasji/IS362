{
 "cells": [
  {
   "cell_type": "markdown",
   "metadata": {},
   "source": [
    "### Enumerate(), Zip(), and Argument Unpacking"
   ]
  },
  {
   "cell_type": "markdown",
   "metadata": {},
   "source": [
    "**Enumerate():**A function in Python that returns an enumerate object. "
   ]
  },
  {
   "cell_type": "markdown",
   "metadata": {},
   "source": [
    "Let's take it back to IS210 and create a numbered list using a for loop:"
   ]
  },
  {
   "cell_type": "code",
   "execution_count": 47,
   "metadata": {
    "collapsed": false,
    "scrolled": true
   },
   "outputs": [
    {
     "name": "stdout",
     "output_type": "stream",
     "text": [
      "1 Lithium\n",
      "2 Copper\n",
      "3 Potassium\n",
      "4 Neon\n"
     ]
    }
   ],
   "source": [
    "elements = [\"Lithium\", \"Copper\", \"Potassium\", \"Neon\"]\n",
    "abvr = [\"Li\", \"Cu\", \"K\", \"Ne\"]\n",
    "for i in range(len(elements)):\n",
    "    print(i + 1, elements[i])\n",
    "\n"
   ]
  },
  {
   "cell_type": "markdown",
   "metadata": {},
   "source": [
    "Now let's use the **Enumerate()** function and create the same numbered list: "
   ]
  },
  {
   "cell_type": "code",
   "execution_count": 45,
   "metadata": {
    "collapsed": false
   },
   "outputs": [
    {
     "name": "stdout",
     "output_type": "stream",
     "text": [
      "1 Lithium\n",
      "2 Copper\n",
      "3 Potassium\n",
      "4 Neon\n"
     ]
    }
   ],
   "source": [
    "for i, elements in enumerate(elements):\n",
    "    print(i + 1, elements)"
   ]
  },
  {
   "cell_type": "markdown",
   "metadata": {},
   "source": [
    "We now get the same numbered list but using cleaner code or as our textbook says the *Pythonic way*. Now let's introduce the **Zip()** function below."
   ]
  },
  {
   "cell_type": "markdown",
   "metadata": {
    "collapsed": true
   },
   "source": [
    "**Zip():** According to our textbook the zip function is used to transform multiple lists into a single list of tuples of corresponding elements. Below we will take a closer look at the Zip function."
   ]
  },
  {
   "cell_type": "code",
   "execution_count": 53,
   "metadata": {
    "collapsed": false,
    "scrolled": true
   },
   "outputs": [
    {
     "name": "stdout",
     "output_type": "stream",
     "text": [
      "1 ('Lithium', 'Li')\n",
      "2 ('Copper', 'Cu')\n",
      "3 ('Potassium', 'K')\n",
      "4 ('Neon', 'Ne')\n"
     ]
    }
   ],
   "source": [
    "for element, abv in enumerate(zip(elements, abvr)):\n",
    "    print (element + 1, abv) \n",
    "    "
   ]
  },
  {
   "cell_type": "markdown",
   "metadata": {},
   "source": [
    "Now we have joined the elements and abvr lists so the elements are matched with their Perodic Table abreviations. Now lets take a look at **Argument Unpacking**. Arugment unpacking seperates combined lists. The code below brings together elements and abvr then seperates them again using * , into two seprate lists. "
   ]
  },
  {
   "cell_type": "code",
   "execution_count": 57,
   "metadata": {
    "collapsed": false
   },
   "outputs": [
    {
     "data": {
      "text/plain": [
       "[('Lithium', 'Copper', 'Potassium', 'Neon'), ('Li', 'Cu', 'K', 'Ne')]"
      ]
     },
     "execution_count": 57,
     "metadata": {},
     "output_type": "execute_result"
    }
   ],
   "source": [
    "together =(zip(elements,abvr)) \n",
    "list(zip(*together))\n"
   ]
  }
 ],
 "metadata": {
  "kernelspec": {
   "display_name": "Python 3",
   "language": "python",
   "name": "python3"
  },
  "language_info": {
   "codemirror_mode": {
    "name": "ipython",
    "version": 3
   },
   "file_extension": ".py",
   "mimetype": "text/x-python",
   "name": "python",
   "nbconvert_exporter": "python",
   "pygments_lexer": "ipython3",
   "version": "3.6.0"
  }
 },
 "nbformat": 4,
 "nbformat_minor": 2
}
