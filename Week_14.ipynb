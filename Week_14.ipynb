{
 "cells": [
  {
   "cell_type": "markdown",
   "metadata": {},
   "source": [
    "### Week 14 - Discussion \n",
    "#### Nick Ileczko\n",
    "__________\n",
    "\n",
    "###### Recommender System: LinkedIn People You May Know\n",
    "\n",
    "\n",
    "* ** Who are your users?**\n",
    "\n",
    "    Individuals who vary in age and work in different industries wishing to network with one another.\n",
    "\n",
    "\n",
    "* ** What are their key goals? **\n",
    "    \n",
    "    While goals vary by individual, the main goal is to network with individuals around the world in a similar field or organization. Other goals may include to advance one career, to start a new career, or even apply to jobs.\n",
    "    \n",
    "\n",
    "* ** How can you help them accomplish those goals? **\n",
    "\n",
    "    Judging by the site, the individual is encouraged to sign up and create a profile. As they are create the profile they are asked specific questions such as personal identifying information, work and education history, professional affiliations, etc. Based on the answer to these questions the system searches the database to pull users with similar answers and notifies the new user of possible \"people you may know\". As the users network grows or enters more information the \"people you may know\" section grows as well.  \n",
    "\n",
    "\n",
    "* ** Consider whether it makes sense for your selected recommender system to perform scenario design twice, once for the organization (e.g. Amazon.com) and once for the organization's customers.**\n",
    "\n",
    "    I do not see the benefit of performing a scenario desgin twice once for LinkedIn and once for the customer. Since it does not sell multiple products or have multiple services such as Amazon I would see it as a waste of time and resources. \n",
    "\n",
    "\n",
    "* ** Reverse Engineer the System **\n",
    "\n",
    "    When you breakdown LinkedIn it becomes a giant resume database. The user fills out an application and instead of being offered a job they are rewarded with an online social media account geared for business use.\n",
    "    \n",
    "\n",
    "* ** Recommendations for improvment **\n",
    "\n",
    "    One option for LinkedIn is to allow users to agree to share geographical information through their phones GPS. This can be used to connect users who are nearby even possibly in the same building. Another option is to share contact information through bluetooth or a QR code, this option would be great in a meeting, networking event, job fair, etc. \n",
    "    \n",
    "    "
   ]
  },
  {
   "cell_type": "code",
   "execution_count": null,
   "metadata": {
    "collapsed": true
   },
   "outputs": [],
   "source": []
  },
  {
   "cell_type": "code",
   "execution_count": null,
   "metadata": {
    "collapsed": true
   },
   "outputs": [],
   "source": []
  }
 ],
 "metadata": {
  "kernelspec": {
   "display_name": "Python 3",
   "language": "python",
   "name": "python3"
  },
  "language_info": {
   "codemirror_mode": {
    "name": "ipython",
    "version": 3
   },
   "file_extension": ".py",
   "mimetype": "text/x-python",
   "name": "python",
   "nbconvert_exporter": "python",
   "pygments_lexer": "ipython3",
   "version": "3.6.1"
  }
 },
 "nbformat": 4,
 "nbformat_minor": 2
}
