{
 "cells": [
  {
   "cell_type": "markdown",
   "metadata": {},
   "source": [
    "Nicholas Ileczko"
   ]
  },
  {
   "cell_type": "markdown",
   "metadata": {},
   "source": [
    "**IS 362 ASSIGNMENT 3**\n",
    "Suppose you have ridden a bicycle from New York City to Key West, Florida.  Your bicycle odometer shows the total miles, which you have dutifully logged at the end of each day with paper and pencil.  Your first two entries might be 55 and 120, indicating that you rode your bike 55 miles on day 1 and 65 miles on day 2.  Your task is to create a pandas Series object that holds the cumulative miles at the end of each day, then use your Python skills to show the total miles that you rode each day.  Consider how you should best present this information in a Jupyter notebook.  You should save your Jupyter Notebook to your GitHub repository, and provide a link in your assignment submission.\n"
   ]
  },
  {
   "cell_type": "markdown",
   "metadata": {},
   "source": [
    "**Imporitng pandas **"
   ]
  },
  {
   "cell_type": "code",
   "execution_count": 48,
   "metadata": {
    "collapsed": true
   },
   "outputs": [],
   "source": [
    "import pandas as pd"
   ]
  },
  {
   "cell_type": "markdown",
   "metadata": {},
   "source": [
    "** Adding miles to odometer dictionary **"
   ]
  },
  {
   "cell_type": "code",
   "execution_count": 49,
   "metadata": {},
   "outputs": [],
   "source": [
    "#creating data\n",
    "odometer = {}\n",
    "odometer['Day 01']= 55\n",
    "odometer['Day 02']= 120\n",
    "odometer['Day 03']= 220\n",
    "odometer['Day 04']= 300\n",
    "odometer['Day 05']= 350\n",
    "odometer['Day 06']= 400\n",
    "odometer['Day 07']= 480\n",
    "odometer['Day 08']= 530\n",
    "odometer['Day 09']= 580\n",
    "odometer['Day 10']= 620\n",
    "odometer['Day 11']= 690\n",
    "odometer['Day 12']= 730 \n",
    "odometer['Day 14']= 800\n",
    "odometer['Day 15']= 850\n",
    "odometer['Day 16']= 950\n",
    "odometer['Day 17']= 1000\n",
    "odometer['Day 18']= 1100\n",
    "odometer['Day 19']= 1200\n",
    "odometer['Day 20']= 1300\n",
    "odometer['Day 21']= 1400\n",
    "odometer['Day 22']= 1442"
   ]
  },
  {
   "cell_type": "markdown",
   "metadata": {},
   "source": [
    "** Creating panda series and caluclating miles traveled by day **"
   ]
  },
  {
   "cell_type": "code",
   "execution_count": 54,
   "metadata": {},
   "outputs": [],
   "source": [
    "#creating panda series\n",
    "odometer = pd.Series(odometer)\n",
    "dailymiles = {} \n",
    "ydreading = 0\n",
    "\n",
    "for day, treading in odometer.items():\n",
    "        \n",
    "    loggedmiles= treading - ydreading\n",
    "\n",
    "    dailymiles[day] = loggedmiles\n",
    "    \n",
    "    ydreading = treading"
   ]
  },
  {
   "cell_type": "markdown",
   "metadata": {},
   "source": [
    "**Creating panda series and displaying traveled miles per day and total miles traveled **"
   ]
  },
  {
   "cell_type": "code",
   "execution_count": 55,
   "metadata": {},
   "outputs": [
    {
     "name": "stdout",
     "output_type": "stream",
     "text": [
      "Day 01     55\n",
      "Day 02     65\n",
      "Day 03    100\n",
      "Day 04     80\n",
      "Day 05     50\n",
      "Day 06     50\n",
      "Day 07     80\n",
      "Day 08     50\n",
      "Day 09     50\n",
      "Day 10     40\n",
      "Day 11     70\n",
      "Day 12     40\n",
      "Day 14     70\n",
      "Day 15     50\n",
      "Day 16    100\n",
      "Day 17     50\n",
      "Day 18    100\n",
      "Day 19    100\n",
      "Day 20    100\n",
      "Day 21    100\n",
      "Day 22     42\n",
      "dtype: int64\n",
      "1442 total miles biked from NYC to Key West FL\n"
     ]
    }
   ],
   "source": [
    "#Series object per day\n",
    "dailymiles = pd.Series(dailymiles)\n",
    "print(dailymiles)\n",
    "print(str(dailymiles.sum()) + ' total miles biked from NYC to Key West FL')"
   ]
  },
  {
   "cell_type": "code",
   "execution_count": null,
   "metadata": {
    "collapsed": true
   },
   "outputs": [],
   "source": []
  }
 ],
 "metadata": {
  "kernelspec": {
   "display_name": "Python 3",
   "language": "python",
   "name": "python3"
  },
  "language_info": {
   "codemirror_mode": {
    "name": "ipython",
    "version": 3
   },
   "file_extension": ".py",
   "mimetype": "text/x-python",
   "name": "python",
   "nbconvert_exporter": "python",
   "pygments_lexer": "ipython3",
   "version": "3.6.1"
  }
 },
 "nbformat": 4,
 "nbformat_minor": 2
}
