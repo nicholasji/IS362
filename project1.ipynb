{
 "cells": [
  {
   "cell_type": "markdown",
   "metadata": {},
   "source": [
    "## Project 1 ##\n",
    "Nick Ileczko\n",
    "\n",
    "**Using pandas to bring in flightproj.csv**"
   ]
  },
  {
   "cell_type": "code",
   "execution_count": 150,
   "metadata": {},
   "outputs": [
    {
     "data": {
      "text/html": [
       "<div>\n",
       "<style>\n",
       "    .dataframe thead tr:only-child th {\n",
       "        text-align: right;\n",
       "    }\n",
       "\n",
       "    .dataframe thead th {\n",
       "        text-align: left;\n",
       "    }\n",
       "\n",
       "    .dataframe tbody tr th {\n",
       "        vertical-align: top;\n",
       "    }\n",
       "</style>\n",
       "<table border=\"1\" class=\"dataframe\">\n",
       "  <thead>\n",
       "    <tr style=\"text-align: right;\">\n",
       "      <th></th>\n",
       "      <th>Airline</th>\n",
       "      <th>Status</th>\n",
       "      <th>LAX</th>\n",
       "      <th>PHX</th>\n",
       "      <th>SAN</th>\n",
       "      <th>SFO</th>\n",
       "      <th>SEA</th>\n",
       "    </tr>\n",
       "  </thead>\n",
       "  <tbody>\n",
       "    <tr>\n",
       "      <th>0</th>\n",
       "      <td>ALASKA</td>\n",
       "      <td>on time</td>\n",
       "      <td>497</td>\n",
       "      <td>221</td>\n",
       "      <td>212</td>\n",
       "      <td>503</td>\n",
       "      <td>1841</td>\n",
       "    </tr>\n",
       "    <tr>\n",
       "      <th>1</th>\n",
       "      <td>ALASKA</td>\n",
       "      <td>delayed</td>\n",
       "      <td>62</td>\n",
       "      <td>12</td>\n",
       "      <td>20</td>\n",
       "      <td>102</td>\n",
       "      <td>305</td>\n",
       "    </tr>\n",
       "    <tr>\n",
       "      <th>2</th>\n",
       "      <td>AM WEST</td>\n",
       "      <td>on time</td>\n",
       "      <td>694</td>\n",
       "      <td>4840</td>\n",
       "      <td>383</td>\n",
       "      <td>320</td>\n",
       "      <td>201</td>\n",
       "    </tr>\n",
       "    <tr>\n",
       "      <th>3</th>\n",
       "      <td>AM WEST</td>\n",
       "      <td>delayed</td>\n",
       "      <td>117</td>\n",
       "      <td>415</td>\n",
       "      <td>65</td>\n",
       "      <td>129</td>\n",
       "      <td>61</td>\n",
       "    </tr>\n",
       "  </tbody>\n",
       "</table>\n",
       "</div>"
      ],
      "text/plain": [
       "   Airline   Status  LAX   PHX  SAN  SFO   SEA\n",
       "0   ALASKA  on time  497   221  212  503  1841\n",
       "1   ALASKA  delayed   62    12   20  102   305\n",
       "2  AM WEST  on time  694  4840  383  320   201\n",
       "3  AM WEST  delayed  117   415   65  129    61"
      ]
     },
     "execution_count": 150,
     "metadata": {},
     "output_type": "execute_result"
    }
   ],
   "source": [
    "#importing numpy, pandas, csv file\n",
    "import numpy as np\n",
    "import pandas as pd \n",
    "\n",
    "flightchart = pd.read_csv(\"desktop/flightproj.csv\")\n",
    "flightchart\n",
    "\n"
   ]
  },
  {
   "cell_type": "markdown",
   "metadata": {},
   "source": [
    "**Using pandas to store data. Getting the sum of ontime flights and delayed flights and adding them to a new Total col**"
   ]
  },
  {
   "cell_type": "code",
   "execution_count": 151,
   "metadata": {},
   "outputs": [
    {
     "data": {
      "text/html": [
       "<div>\n",
       "<style>\n",
       "    .dataframe thead tr:only-child th {\n",
       "        text-align: right;\n",
       "    }\n",
       "\n",
       "    .dataframe thead th {\n",
       "        text-align: left;\n",
       "    }\n",
       "\n",
       "    .dataframe tbody tr th {\n",
       "        vertical-align: top;\n",
       "    }\n",
       "</style>\n",
       "<table border=\"1\" class=\"dataframe\">\n",
       "  <thead>\n",
       "    <tr style=\"text-align: right;\">\n",
       "      <th></th>\n",
       "      <th>Airline</th>\n",
       "      <th>Status</th>\n",
       "      <th>LAX</th>\n",
       "      <th>PHX</th>\n",
       "      <th>SAN</th>\n",
       "      <th>SFO</th>\n",
       "      <th>SEA</th>\n",
       "      <th>Total</th>\n",
       "    </tr>\n",
       "  </thead>\n",
       "  <tbody>\n",
       "    <tr>\n",
       "      <th>0</th>\n",
       "      <td>ALASKA</td>\n",
       "      <td>on time</td>\n",
       "      <td>497</td>\n",
       "      <td>221</td>\n",
       "      <td>212</td>\n",
       "      <td>503</td>\n",
       "      <td>1841</td>\n",
       "      <td>3274</td>\n",
       "    </tr>\n",
       "    <tr>\n",
       "      <th>1</th>\n",
       "      <td>ALASKA</td>\n",
       "      <td>delayed</td>\n",
       "      <td>62</td>\n",
       "      <td>12</td>\n",
       "      <td>20</td>\n",
       "      <td>102</td>\n",
       "      <td>305</td>\n",
       "      <td>501</td>\n",
       "    </tr>\n",
       "    <tr>\n",
       "      <th>2</th>\n",
       "      <td>AM WEST</td>\n",
       "      <td>on time</td>\n",
       "      <td>694</td>\n",
       "      <td>4840</td>\n",
       "      <td>383</td>\n",
       "      <td>320</td>\n",
       "      <td>201</td>\n",
       "      <td>6438</td>\n",
       "    </tr>\n",
       "    <tr>\n",
       "      <th>3</th>\n",
       "      <td>AM WEST</td>\n",
       "      <td>delayed</td>\n",
       "      <td>117</td>\n",
       "      <td>415</td>\n",
       "      <td>65</td>\n",
       "      <td>129</td>\n",
       "      <td>61</td>\n",
       "      <td>787</td>\n",
       "    </tr>\n",
       "  </tbody>\n",
       "</table>\n",
       "</div>"
      ],
      "text/plain": [
       "   Airline   Status  LAX   PHX  SAN  SFO   SEA  Total\n",
       "0   ALASKA  on time  497   221  212  503  1841   3274\n",
       "1   ALASKA  delayed   62    12   20  102   305    501\n",
       "2  AM WEST  on time  694  4840  383  320   201   6438\n",
       "3  AM WEST  delayed  117   415   65  129    61    787"
      ]
     },
     "execution_count": 151,
     "metadata": {},
     "output_type": "execute_result"
    }
   ],
   "source": [
    "#assigning variable data\n",
    "akontime = pd.Series(flightchart.loc[0])\n",
    "akdelayed = pd.Series(flightchart.loc[1])\n",
    "amwontime = pd.Series(flightchart.loc[2])\n",
    "amwdelayed = pd.Series(flightchart.loc[3])\n",
    "\n",
    "#getting total sum and adding total col to flightchart\n",
    "def addtotal():\n",
    "    ontime = akontime['LAX':'SEA'].sum()\n",
    "    delayed = akdelayed['LAX':'SEA'].sum()\n",
    "    amontime = amwontime['LAX':'SEA'].sum()\n",
    "    amdelayed = amwdelayed['LAX':'SEA'].sum()\n",
    "    \n",
    "    total = pd.Series([ontime, delayed, amontime, amdelayed])\n",
    "    flightchart['Total'] = total\n",
    "    return flightchart\n",
    "\n",
    "addtotal()\n",
    "    "
   ]
  },
  {
   "cell_type": "markdown",
   "metadata": {},
   "source": [
    "**Finding the total percentage of delayed flights (rounded)**"
   ]
  },
  {
   "cell_type": "code",
   "execution_count": 152,
   "metadata": {},
   "outputs": [
    {
     "name": "stdout",
     "output_type": "stream",
     "text": [
      "Of all Alaska flights 13.27 percent were delayed.\n",
      "Of all AM West flights 10.89 percent were delayed.\n"
     ]
    }
   ],
   "source": [
    "alaskaratio = flightchart['Total'][1]/(flightchart['Total'][0]+flightchart['Total'][1])*100\n",
    "print(\"Of all Alaska flights %.2f percent were delayed.\"%alaskaratio)\n",
    "\n",
    "amwestratio = flightchart['Total'][3]/(flightchart['Total'][2]+flightchart['Total'][3])*100\n",
    "print(\"Of all AM West flights %.2f percent were delayed.\"%amwestratio)"
   ]
  }
 ],
 "metadata": {
  "kernelspec": {
   "display_name": "Python 3",
   "language": "python",
   "name": "python3"
  },
  "language_info": {
   "codemirror_mode": {
    "name": "ipython",
    "version": 3
   },
   "file_extension": ".py",
   "mimetype": "text/x-python",
   "name": "python",
   "nbconvert_exporter": "python",
   "pygments_lexer": "ipython3",
   "version": "3.6.1"
  }
 },
 "nbformat": 4,
 "nbformat_minor": 2
}
