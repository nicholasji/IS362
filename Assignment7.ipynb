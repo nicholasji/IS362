{
 "cells": [
  {
   "cell_type": "markdown",
   "metadata": {},
   "source": [
    "## Week 7 Assignment\n",
    "#### Nick Ileczko\n",
    "\n",
    "Choose six recent popular movies.  Ask at least five people that you know (friends, family, classmates, imaginary friends) to rate each of these movies that they have seen on a scale of 1 to 5.  There should be at least one movie that not everyone has seen!Take the results (observations) and store them somewhere (like a SQL database, or a .CSV file).  Load the information into a pandas dataframe.  Your solution should include Python and pandas code that accomplishes the following:\n",
    "\n",
    "1. Load the ratings by user information that you collected into a pandas dataframe.\n",
    "\n",
    "2. Show the average ratings for each user and each movie.\n",
    "\n",
    "3. Create a new pandas dataframe, with normalized ratings for each user.  Again, show the average ratings for each user and each movie.\n",
    "\n",
    "4. Provide a text-based conclusion: explain what might be advantages and disadvantages of using normalized ratings instead of      the actual ratings.\n",
    "\n",
    "5. [Extra credit] Create another new pandas dataframe, with standardized ratings for each user. Once again, show the average        ratings for each user and each movie."
   ]
  },
  {
   "cell_type": "code",
   "execution_count": 16,
   "metadata": {},
   "outputs": [
    {
     "data": {
      "text/html": [
       "<div>\n",
       "<style>\n",
       "    .dataframe thead tr:only-child th {\n",
       "        text-align: right;\n",
       "    }\n",
       "\n",
       "    .dataframe thead th {\n",
       "        text-align: left;\n",
       "    }\n",
       "\n",
       "    .dataframe tbody tr th {\n",
       "        vertical-align: top;\n",
       "    }\n",
       "</style>\n",
       "<table border=\"1\" class=\"dataframe\">\n",
       "  <thead>\n",
       "    <tr style=\"text-align: right;\">\n",
       "      <th></th>\n",
       "      <th>Happy Death Day</th>\n",
       "      <th>American Made</th>\n",
       "      <th>IT</th>\n",
       "      <th>Kingsman</th>\n",
       "      <th>The Foreigner</th>\n",
       "      <th>Blade Runner 2049</th>\n",
       "    </tr>\n",
       "  </thead>\n",
       "  <tbody>\n",
       "    <tr>\n",
       "      <th>Nick</th>\n",
       "      <td>2.0</td>\n",
       "      <td>4.0</td>\n",
       "      <td>3.0</td>\n",
       "      <td>1.0</td>\n",
       "      <td>NaN</td>\n",
       "      <td>4.0</td>\n",
       "    </tr>\n",
       "    <tr>\n",
       "      <th>Bob</th>\n",
       "      <td>3.0</td>\n",
       "      <td>3.0</td>\n",
       "      <td>4.0</td>\n",
       "      <td>NaN</td>\n",
       "      <td>5.0</td>\n",
       "      <td>3.0</td>\n",
       "    </tr>\n",
       "    <tr>\n",
       "      <th>Jill</th>\n",
       "      <td>1.0</td>\n",
       "      <td>2.0</td>\n",
       "      <td>NaN</td>\n",
       "      <td>4.0</td>\n",
       "      <td>3.0</td>\n",
       "      <td>5.0</td>\n",
       "    </tr>\n",
       "    <tr>\n",
       "      <th>Debrah</th>\n",
       "      <td>NaN</td>\n",
       "      <td>5.0</td>\n",
       "      <td>5.0</td>\n",
       "      <td>5.0</td>\n",
       "      <td>2.0</td>\n",
       "      <td>NaN</td>\n",
       "    </tr>\n",
       "    <tr>\n",
       "      <th>Sam</th>\n",
       "      <td>1.0</td>\n",
       "      <td>NaN</td>\n",
       "      <td>2.0</td>\n",
       "      <td>4.0</td>\n",
       "      <td>1.0</td>\n",
       "      <td>5.0</td>\n",
       "    </tr>\n",
       "  </tbody>\n",
       "</table>\n",
       "</div>"
      ],
      "text/plain": [
       "        Happy Death Day  American Made   IT  Kingsman  The Foreigner  \\\n",
       "Nick                2.0            4.0  3.0       1.0            NaN   \n",
       "Bob                 3.0            3.0  4.0       NaN            5.0   \n",
       "Jill                1.0            2.0  NaN       4.0            3.0   \n",
       "Debrah              NaN            5.0  5.0       5.0            2.0   \n",
       "Sam                 1.0            NaN  2.0       4.0            1.0   \n",
       "\n",
       "        Blade Runner 2049  \n",
       "Nick                  4.0  \n",
       "Bob                   3.0  \n",
       "Jill                  5.0  \n",
       "Debrah                NaN  \n",
       "Sam                   5.0  "
      ]
     },
     "execution_count": 16,
     "metadata": {},
     "output_type": "execute_result"
    }
   ],
   "source": [
    "import pandas as pd\n",
    "moviedf = pd.read_csv(r'C:\\Users\\Nick\\Desktop\\movies.csv', index_col=0)\n",
    "moviedf.head()"
   ]
  },
  {
   "cell_type": "markdown",
   "metadata": {},
   "source": [
    "#### Average by Movie"
   ]
  },
  {
   "cell_type": "code",
   "execution_count": 17,
   "metadata": {},
   "outputs": [
    {
     "data": {
      "text/plain": [
       "Happy Death Day      1.75\n",
       "American Made        3.50\n",
       "IT                   3.50\n",
       "Kingsman             3.50\n",
       "The Foreigner        2.75\n",
       "Blade Runner 2049    4.25\n",
       "dtype: float64"
      ]
     },
     "execution_count": 17,
     "metadata": {},
     "output_type": "execute_result"
    }
   ],
   "source": [
    "movieavg= moviedf.mean()\n",
    "movieavg"
   ]
  },
  {
   "cell_type": "markdown",
   "metadata": {
    "collapsed": true
   },
   "source": [
    "#### Average by Movie Watcher"
   ]
  },
  {
   "cell_type": "code",
   "execution_count": 18,
   "metadata": {},
   "outputs": [
    {
     "data": {
      "text/plain": [
       "Nick      2.80\n",
       "Bob       3.60\n",
       "Jill      3.00\n",
       "Debrah    4.25\n",
       "Sam       2.60\n",
       "dtype: float64"
      ]
     },
     "execution_count": 18,
     "metadata": {},
     "output_type": "execute_result"
    }
   ],
   "source": [
    "watcheravg = moviedf.mean(axis=1)\n",
    "watcheravg"
   ]
  },
  {
   "cell_type": "markdown",
   "metadata": {},
   "source": [
    "#### Normalized Table"
   ]
  },
  {
   "cell_type": "code",
   "execution_count": 22,
   "metadata": {},
   "outputs": [
    {
     "data": {
      "text/html": [
       "<div>\n",
       "<style>\n",
       "    .dataframe thead tr:only-child th {\n",
       "        text-align: right;\n",
       "    }\n",
       "\n",
       "    .dataframe thead th {\n",
       "        text-align: left;\n",
       "    }\n",
       "\n",
       "    .dataframe tbody tr th {\n",
       "        vertical-align: top;\n",
       "    }\n",
       "</style>\n",
       "<table border=\"1\" class=\"dataframe\">\n",
       "  <thead>\n",
       "    <tr style=\"text-align: right;\">\n",
       "      <th></th>\n",
       "      <th>Happy Death Day</th>\n",
       "      <th>American Made</th>\n",
       "      <th>IT</th>\n",
       "      <th>Kingsman</th>\n",
       "      <th>The Foreigner</th>\n",
       "      <th>Blade Runner 2049</th>\n",
       "    </tr>\n",
       "  </thead>\n",
       "  <tbody>\n",
       "    <tr>\n",
       "      <th>Nick</th>\n",
       "      <td>0.5</td>\n",
       "      <td>0.666667</td>\n",
       "      <td>0.333333</td>\n",
       "      <td>0.00</td>\n",
       "      <td>NaN</td>\n",
       "      <td>0.5</td>\n",
       "    </tr>\n",
       "    <tr>\n",
       "      <th>Bob</th>\n",
       "      <td>1.0</td>\n",
       "      <td>0.333333</td>\n",
       "      <td>0.666667</td>\n",
       "      <td>NaN</td>\n",
       "      <td>1.00</td>\n",
       "      <td>0.0</td>\n",
       "    </tr>\n",
       "    <tr>\n",
       "      <th>Jill</th>\n",
       "      <td>0.0</td>\n",
       "      <td>0.000000</td>\n",
       "      <td>NaN</td>\n",
       "      <td>0.75</td>\n",
       "      <td>0.50</td>\n",
       "      <td>1.0</td>\n",
       "    </tr>\n",
       "    <tr>\n",
       "      <th>Debrah</th>\n",
       "      <td>NaN</td>\n",
       "      <td>1.000000</td>\n",
       "      <td>1.000000</td>\n",
       "      <td>1.00</td>\n",
       "      <td>0.25</td>\n",
       "      <td>NaN</td>\n",
       "    </tr>\n",
       "    <tr>\n",
       "      <th>Sam</th>\n",
       "      <td>0.0</td>\n",
       "      <td>NaN</td>\n",
       "      <td>0.000000</td>\n",
       "      <td>0.75</td>\n",
       "      <td>0.00</td>\n",
       "      <td>1.0</td>\n",
       "    </tr>\n",
       "  </tbody>\n",
       "</table>\n",
       "</div>"
      ],
      "text/plain": [
       "        Happy Death Day  American Made        IT  Kingsman  The Foreigner  \\\n",
       "Nick                0.5       0.666667  0.333333      0.00            NaN   \n",
       "Bob                 1.0       0.333333  0.666667       NaN           1.00   \n",
       "Jill                0.0       0.000000       NaN      0.75           0.50   \n",
       "Debrah              NaN       1.000000  1.000000      1.00           0.25   \n",
       "Sam                 0.0            NaN  0.000000      0.75           0.00   \n",
       "\n",
       "        Blade Runner 2049  \n",
       "Nick                  0.5  \n",
       "Bob                   0.0  \n",
       "Jill                  1.0  \n",
       "Debrah                NaN  \n",
       "Sam                   1.0  "
      ]
     },
     "execution_count": 22,
     "metadata": {},
     "output_type": "execute_result"
    }
   ],
   "source": [
    "normratings=(moviedf-moviedf.min()) / (moviedf.max() - moviedf.min())\n",
    "normratings.head()"
   ]
  },
  {
   "cell_type": "markdown",
   "metadata": {},
   "source": [
    "#### Normalized Movie Ratings"
   ]
  },
  {
   "cell_type": "code",
   "execution_count": 24,
   "metadata": {},
   "outputs": [
    {
     "data": {
      "text/plain": [
       "Happy Death Day      0.3750\n",
       "American Made        0.5000\n",
       "IT                   0.5000\n",
       "Kingsman             0.6250\n",
       "The Foreigner        0.4375\n",
       "Blade Runner 2049    0.6250\n",
       "dtype: float64"
      ]
     },
     "execution_count": 24,
     "metadata": {},
     "output_type": "execute_result"
    }
   ],
   "source": [
    "normratingsmov = normratings.mean()\n",
    "normratingsmov"
   ]
  },
  {
   "cell_type": "markdown",
   "metadata": {},
   "source": [
    "#### Normalized Movie Watcher"
   ]
  },
  {
   "cell_type": "code",
   "execution_count": 25,
   "metadata": {},
   "outputs": [
    {
     "data": {
      "text/plain": [
       "Nick      0.4000\n",
       "Bob       0.6000\n",
       "Jill      0.4500\n",
       "Debrah    0.8125\n",
       "Sam       0.3500\n",
       "dtype: float64"
      ]
     },
     "execution_count": 25,
     "metadata": {},
     "output_type": "execute_result"
    }
   ],
   "source": [
    "normratingsvie = normratings.mean(axis=1)\n",
    "normratingsvie"
   ]
  },
  {
   "cell_type": "markdown",
   "metadata": {},
   "source": [
    "Provide a text-based conclusion: explain what might be advantages and disadvantages of using normalized ratings instead of the actual ratings.\n",
    "\n",
    "One advantage using normazlied ratings is if one piece of data is missing it doesn't seem to affect the data as much as the actual data. On the other hand it is easier to make sense of the actual data for most people rather than the normalzied data. "
   ]
  },
  {
   "cell_type": "markdown",
   "metadata": {},
   "source": [
    "#### Standardized Movie Ratings"
   ]
  },
  {
   "cell_type": "code",
   "execution_count": 29,
   "metadata": {},
   "outputs": [
    {
     "data": {
      "text/html": [
       "<div>\n",
       "<style>\n",
       "    .dataframe thead tr:only-child th {\n",
       "        text-align: right;\n",
       "    }\n",
       "\n",
       "    .dataframe thead th {\n",
       "        text-align: left;\n",
       "    }\n",
       "\n",
       "    .dataframe tbody tr th {\n",
       "        vertical-align: top;\n",
       "    }\n",
       "</style>\n",
       "<table border=\"1\" class=\"dataframe\">\n",
       "  <thead>\n",
       "    <tr style=\"text-align: right;\">\n",
       "      <th></th>\n",
       "      <th>Happy Death Day</th>\n",
       "      <th>American Made</th>\n",
       "      <th>IT</th>\n",
       "      <th>Kingsman</th>\n",
       "      <th>The Foreigner</th>\n",
       "      <th>Blade Runner 2049</th>\n",
       "    </tr>\n",
       "  </thead>\n",
       "  <tbody>\n",
       "    <tr>\n",
       "      <th>Nick</th>\n",
       "      <td>0.261116</td>\n",
       "      <td>0.387298</td>\n",
       "      <td>-0.387298</td>\n",
       "      <td>-1.443376</td>\n",
       "      <td>NaN</td>\n",
       "      <td>-0.261116</td>\n",
       "    </tr>\n",
       "    <tr>\n",
       "      <th>Bob</th>\n",
       "      <td>1.305582</td>\n",
       "      <td>-0.387298</td>\n",
       "      <td>0.387298</td>\n",
       "      <td>NaN</td>\n",
       "      <td>1.317465</td>\n",
       "      <td>-1.305582</td>\n",
       "    </tr>\n",
       "    <tr>\n",
       "      <th>Jill</th>\n",
       "      <td>-0.783349</td>\n",
       "      <td>-1.161895</td>\n",
       "      <td>NaN</td>\n",
       "      <td>0.288675</td>\n",
       "      <td>0.146385</td>\n",
       "      <td>0.783349</td>\n",
       "    </tr>\n",
       "    <tr>\n",
       "      <th>Debrah</th>\n",
       "      <td>NaN</td>\n",
       "      <td>1.161895</td>\n",
       "      <td>1.161895</td>\n",
       "      <td>0.866025</td>\n",
       "      <td>-0.439155</td>\n",
       "      <td>NaN</td>\n",
       "    </tr>\n",
       "    <tr>\n",
       "      <th>Sam</th>\n",
       "      <td>-0.783349</td>\n",
       "      <td>NaN</td>\n",
       "      <td>-1.161895</td>\n",
       "      <td>0.288675</td>\n",
       "      <td>-1.024695</td>\n",
       "      <td>0.783349</td>\n",
       "    </tr>\n",
       "  </tbody>\n",
       "</table>\n",
       "</div>"
      ],
      "text/plain": [
       "        Happy Death Day  American Made        IT  Kingsman  The Foreigner  \\\n",
       "Nick           0.261116       0.387298 -0.387298 -1.443376            NaN   \n",
       "Bob            1.305582      -0.387298  0.387298       NaN       1.317465   \n",
       "Jill          -0.783349      -1.161895       NaN  0.288675       0.146385   \n",
       "Debrah              NaN       1.161895  1.161895  0.866025      -0.439155   \n",
       "Sam           -0.783349            NaN -1.161895  0.288675      -1.024695   \n",
       "\n",
       "        Blade Runner 2049  \n",
       "Nick            -0.261116  \n",
       "Bob             -1.305582  \n",
       "Jill             0.783349  \n",
       "Debrah                NaN  \n",
       "Sam              0.783349  "
      ]
     },
     "execution_count": 29,
     "metadata": {},
     "output_type": "execute_result"
    }
   ],
   "source": [
    "stanratings = (moviedf - moviedf.mean()) / moviedf.std()\n",
    "stanratings.head()"
   ]
  },
  {
   "cell_type": "code",
   "execution_count": 30,
   "metadata": {},
   "outputs": [
    {
     "data": {
      "text/plain": [
       "Happy Death Day     -5.551115e-17\n",
       "American Made        0.000000e+00\n",
       "IT                   0.000000e+00\n",
       "Kingsman            -1.387779e-17\n",
       "The Foreigner        0.000000e+00\n",
       "Blade Runner 2049    5.551115e-17\n",
       "dtype: float64"
      ]
     },
     "execution_count": 30,
     "metadata": {},
     "output_type": "execute_result"
    }
   ],
   "source": [
    "stanratingsmovie = stanratings.mean()\n",
    "stanratingsmovie"
   ]
  },
  {
   "cell_type": "markdown",
   "metadata": {},
   "source": [
    "#### Standardized Movie Watcher"
   ]
  },
  {
   "cell_type": "code",
   "execution_count": 32,
   "metadata": {},
   "outputs": [
    {
     "data": {
      "text/plain": [
       "Nick     -0.288675\n",
       "Bob       0.263493\n",
       "Jill     -0.145367\n",
       "Debrah    0.687665\n",
       "Sam      -0.379583\n",
       "dtype: float64"
      ]
     },
     "execution_count": 32,
     "metadata": {},
     "output_type": "execute_result"
    }
   ],
   "source": [
    "stanratingsview = stanratings.mean(axis=1)\n",
    "stanratingsview"
   ]
  },
  {
   "cell_type": "code",
   "execution_count": null,
   "metadata": {
    "collapsed": true
   },
   "outputs": [],
   "source": []
  }
 ],
 "metadata": {
  "kernelspec": {
   "display_name": "Python 3",
   "language": "python",
   "name": "python3"
  },
  "language_info": {
   "codemirror_mode": {
    "name": "ipython",
    "version": 3
   },
   "file_extension": ".py",
   "mimetype": "text/x-python",
   "name": "python",
   "nbconvert_exporter": "python",
   "pygments_lexer": "ipython3",
   "version": "3.6.1"
  }
 },
 "nbformat": 4,
 "nbformat_minor": 2
}
